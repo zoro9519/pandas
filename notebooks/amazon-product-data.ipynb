{
 "cells": [
  {
   "cell_type": "markdown",
   "metadata": {
    "collapsed": true
   },
   "source": [
    "# Find products to sell on Amazon\n",
    "\n",
    "I don't have a dataset for this idea, but I had to include it. There is a TON of interesting data analysis that you can do on Amazon and it can make you a lot of money.\n",
    "\n",
    "Amazon runs a service called FBA (Fulfillment by Amazon) - this service allows people to ship products to Amazon's warehouse and sell through Amazon's website. If you can come up with a product that will sell on Amazon this can be a nice little business opportunity.\n",
    "\n",
    "How do you find a product that will sell on Amazon? A company called [Jungle Scout](https://www.junglescout.com) has an approach.\n",
    "\n",
    "Their process involves:\n",
    "* Estimating how well a product is selling based on it's sales rank\n",
    "* Looking for products which are selling well but which don't have great reviews\n",
    "* Coming up with an improved version of these products to sell\n",
    "* Launching (and marketing) these products on Amazon\n",
    "\n",
    "They have a video series that explains their process far better than I ever could. I recommend checking it out for an inspiring look at how data analysis can help you build better products.\n",
    "\n",
    "[JungleScout's Million Dollar Challenge Blog](https://www.junglescout.com/blog/mdcs-europe-product-ideas/)\n",
    "\n",
    "\n",
    "https://affiliate.junglescout.com/\n",
    "\n",
    "\n",
    "## Where you can go to get Amazon data\n",
    "\n",
    "You can crawl amazon listings. Collect the sales rank, product reviews and similar products to get a view into the market for a particular type of product.\n",
    "\n",
    "There is also an [Amazon Customer Reviews dataset](https://s3.amazonaws.com/amazon-reviews-pds/readme.html) that Amazon provides... but I think this dataset is missing the interesting market salesrank data."
   ]
  },
  {
   "cell_type": "code",
   "execution_count": null,
   "metadata": {},
   "outputs": [],
   "source": []
  }
 ],
 "metadata": {
  "kernelspec": {
   "display_name": "Python 3",
   "language": "python",
   "name": "python3"
  },
  "language_info": {
   "codemirror_mode": {
    "name": "ipython",
    "version": 3
   },
   "file_extension": ".py",
   "mimetype": "text/x-python",
   "name": "python",
   "nbconvert_exporter": "python",
   "pygments_lexer": "ipython3",
   "version": "3.7.2"
  }
 },
 "nbformat": 4,
 "nbformat_minor": 2
}
